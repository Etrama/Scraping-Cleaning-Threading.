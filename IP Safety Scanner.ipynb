{
 "cells": [
  {
   "cell_type": "markdown",
   "metadata": {},
   "source": [
    "# Using Selenium"
   ]
  },
  {
   "cell_type": "code",
   "execution_count": 1,
   "metadata": {},
   "outputs": [],
   "source": [
    "from selenium import webdriver\n",
    "from selenium.webdriver.common.keys import Keys\n",
    "import requests, json\n",
    "from lxml import html\n",
    "from bs4 import BeautifulSoup"
   ]
  },
  {
   "cell_type": "code",
   "execution_count": 2,
   "metadata": {},
   "outputs": [],
   "source": [
    "options = webdriver.ChromeOptions()\n",
    "options.add_argument(\"–start-maximized\")\n",
    "options.add_argument('headless')\n",
    "#prefs = {\"profile.managed_default_content_settings.images\": 2}\n",
    "#options.add_experimental_option(\"prefs\", prefs)\n",
    "#options.add_argument('window-size=1920x1080')\n",
    "driver = webdriver.Chrome(r\"C:\\Users\\kmoudgalya\\Desktop\\Setups\\chromedriver_win32\\chromedriver.exe\", options = options)\n",
    "url = \"http://www.ipvoid.com/ip-blacklist-check/\"\n",
    "driver.get(url)\n",
    "#html = browser.page_source\n",
    "#print(html)\n"
   ]
  },
  {
   "cell_type": "markdown",
   "metadata": {},
   "source": [
    "# refer to this to know how to make your selenium webdriver faster:\n",
    "# https://seleniumjava.com/2015/12/12/how-to-make-selenium-webdriver-scripts-faster/"
   ]
  },
  {
   "cell_type": "code",
   "execution_count": 3,
   "metadata": {},
   "outputs": [
    {
     "name": "stdout",
     "output_type": "stream",
     "text": [
      "Enter the IP to check: 49.85.80.10\n"
     ]
    },
    {
     "data": {
      "text/plain": [
       "True"
      ]
     },
     "execution_count": 3,
     "metadata": {},
     "output_type": "execute_result"
    }
   ],
   "source": [
    "#//*[@id=\"ipAddr\"]\n",
    "#IP_element = driver.find_element_by_id('ipAddr')\n",
    "IP_element = driver.find_element_by_css_selector('input[id=\"ipAddr\"]')\n",
    "#Checker = driver.find_element_by_css_selector('button[type=\"submit\"]')\n",
    "IP_input = input(\"Enter the IP to check: \")\n",
    "IP_element.clear()\n",
    "IP_element.send_keys(IP_input)\n",
    "IP_element.send_keys(Keys.RETURN)\n",
    "#Checker.click()\n",
    "for elem in driver.find_elements_by_xpath('.//span[@class = \"label label-success\"]'):\n",
    "    print(elem.text)\n",
    "driver.execute_script(\"window.scrollTo(0, document.body.scrollHeight/2);\")\n",
    "driver.get_screenshot_as_file(r'C:\\Users\\kmoudgalya\\Desktop\\AI PRD\\Sample\\main-page2.png')\n",
    "#html = browser.page_source\n",
    "#print(html)\n",
    "\n",
    "#driver.close()\n",
    "#driver.quit()"
   ]
  },
  {
   "cell_type": "markdown",
   "metadata": {},
   "source": [
    "## phantomjs,chromedriver etc are OS dependent, we will need to account for this at some point, wherein all OS cases are taken care of\n",
    "## selenium support for above has been deprecated, best to stick to headless"
   ]
  },
  {
   "cell_type": "markdown",
   "metadata": {},
   "source": [
    "# Some PhantomJS code to be ignored:"
   ]
  },
  {
   "cell_type": "code",
   "execution_count": 50,
   "metadata": {},
   "outputs": [],
   "source": [
    "# browser = webdriver.PhantomJS(r\"C:\\Users\\kmoudgalya\\Desktop\\Setups\\phantomjs-2.1.1-windows\\phantomjs-2.1.1-windows\\bin\\phantomjs.exe\")\n",
    "# browser.get(\"http://www.anthropologie.eu/anthro/index.jsp#/\")\n",
    "# html = browser.page_source\n",
    "# print(html)"
   ]
  },
  {
   "cell_type": "markdown",
   "metadata": {},
   "source": [
    "# Failed attempts:"
   ]
  },
  {
   "cell_type": "code",
   "execution_count": null,
   "metadata": {},
   "outputs": [],
   "source": [
    "# def ipvoid(ipInput):\n",
    "#     proxy = urllib2.ProxyHandler()\n",
    "#     opener = urllib2.build_opener(proxy)\n",
    "#     response = opener.open(\"http://ipvoid.com/scan/\" + ipInput)\n",
    "#     content = response.read()\n",
    "#     contentString = str(content)\n",
    "    \n",
    "#     rpderr = re.compile('An\\sError\\soccurred', re.IGNORECASE)\n",
    "#     rpdFinderr = re.findall(rpderr,contentString)\n",
    "#     # print content2String\n",
    "# if \"ERROR\" in str(rpdFinderr):\n",
    "#         ipvoidErr = True\n",
    "#     else:\n",
    "#         ipvoidErr = False\n",
    "#     if ipvoidErr == False:\n",
    "#         rpd2 = re.compile('Detected\\<\\/font\\>\\<\\/td..td..a.rel..nofollow..href.\\\"(.{6,70})\\\"\\stitle\\=\\\"View', re.IGNORECASE)\n",
    "#         rpdFind2 = re.findall(rpd2,contentString)\n",
    "#         rpdSorted2=sorted(rpdFind2)\n",
    "    \n",
    "#         rpd3 = re.compile('ISP\\<\\/td\\>\\<td\\>(.+)\\<\\/td\\>', re.IGNORECASE)\n",
    "#         rpdFind3 = re.findall(rpd3,contentString)\n",
    "#         rpdSorted3=sorted(rpdFind3)\n",
    "    \n",
    "#         rpd4 = re.compile('Country\\sCode.+flag\\\"\\s\\/\\>\\s(.+)\\<\\/td\\>', re.IGNORECASE)\n",
    "#         rpdFind4 = re.findall(rpd4,contentString)\n",
    "#         rpdSorted4=sorted(rpdFind4)\n",
    "#        j=''\n",
    "#         for j in rpdSorted2:\n",
    "#             print ('[+] Host is listed in blacklist at '+ j)\n",
    "#         if j=='':\n",
    "#             print('[-] IP is not listed in a blacklist')\n",
    "       \n",
    "#         k=''\n",
    "#         for k in rpdSorted3:\n",
    "#             print ('[+] The ISP for this IP is: '+ k)\n",
    "#         if k=='':\n",
    "#             print('[-] No ISP listed')\n",
    "        \n",
    "#         l=''\n",
    "#         for l in rpdSorted4:\n",
    "#             print ('[+] Geographic Location: '+ l)\n",
    "#         if l=='':\n",
    "#             print ('[-] No GEO location listed')\n",
    "#     else:\n",
    "#         print '[*] Scanning host now on IPVoid.com. May take a few seconds.'\n",
    "\n",
    "#         url = ('http://www.ipvoid.com/')\n",
    "#         raw_params = {'ip':ipInput,'go':'Scan Now'}\n",
    "#         params = urllib.urlencode(raw_params)\n",
    "#         request = urllib2.Request(url,params,headers={'Content-type':'application/x-www-form-urlencoded'})\n",
    "#         page = urllib2.urlopen(request)\n",
    "#         page = page.read()\n",
    "#         contentString = str(page)\n",
    "        \n",
    "#         rpd2 = re.compile('Detected\\<\\/font\\>\\<\\/td..td..a.rel..nofollow..href.\\\"(.{6,70})\\\"\\stitle\\=\\\"View', re.IGNORECASE)\n",
    "#         rpdFind2 = re.findall(rpd2,contentString)\n",
    "#         rpdSorted2=sorted(rpdFind2)\n",
    "    \n",
    "#         rpd3 = re.compile('ISP\\<\\/td\\>\\<td\\>(.+)\\<\\/td\\>', re.IGNORECASE)\n",
    "#         rpdFind3 = re.findall(rpd3,contentString)\n",
    "#         rpdSorted3=sorted(rpdFind3)\n",
    "    \n",
    "#         rpd4 = re.compile('Country\\sCode.+flag\\\"\\s\\/\\>\\s(.+)\\<\\/td\\>', re.IGNORECASE)\n",
    "#         rpdFind4 = re.findall(rpd4,contentString)\n",
    "#         rpdSorted4=sorted(rpdFind4)\n",
    "#         j=''\n",
    "#         for j in rpdSorted2:\n",
    "#             print ('[+] Host is listed in blacklist at '+ j)\n",
    "#         if j=='':\n",
    "#             print('[-] IP is not listed in a blacklist')\n",
    "       \n",
    "#         k=''\n",
    "#         for k in rpdSorted3:\n",
    "#             print ('[+] The ISP for this IP is: '+ k)\n",
    "#         if k=='':\n",
    "#             print('[-] No ISP listed')\n",
    "        \n",
    "#         l=''\n",
    "#         for l in rpdSorted4:\n",
    "#             print ('[+] Geographic Location: '+ l)\n",
    "#         if l=='':\n",
    "#             print ('[-] No GEO location listed')\n"
   ]
  },
  {
   "cell_type": "markdown",
   "metadata": {},
   "source": [
    "# Trying IP scan with urllib"
   ]
  },
  {
   "cell_type": "code",
   "execution_count": 9,
   "metadata": {},
   "outputs": [],
   "source": [
    "# from urllib.parse import urlencode\n",
    "# from urllib.request import urlopen, Request\n",
    "# import string\n",
    "# ipInput = '8.8.8.8'"
   ]
  },
  {
   "cell_type": "code",
   "execution_count": 11,
   "metadata": {},
   "outputs": [
    {
     "ename": "TypeError",
     "evalue": "not a valid non-string sequence or mapping object",
     "output_type": "error",
     "traceback": [
      "\u001b[1;31m---------------------------------------------------------------------------\u001b[0m",
      "\u001b[1;31mTypeError\u001b[0m                                 Traceback (most recent call last)",
      "\u001b[1;32m~\\AppData\\Local\\Continuum\\anaconda3\\lib\\urllib\\parse.py\u001b[0m in \u001b[0;36murlencode\u001b[1;34m(query, doseq, safe, encoding, errors, quote_via)\u001b[0m\n\u001b[0;32m    852\u001b[0m             \u001b[1;31m# non-empty strings will fail this\u001b[0m\u001b[1;33m\u001b[0m\u001b[1;33m\u001b[0m\u001b[0m\n\u001b[1;32m--> 853\u001b[1;33m             \u001b[1;32mif\u001b[0m \u001b[0mlen\u001b[0m\u001b[1;33m(\u001b[0m\u001b[0mquery\u001b[0m\u001b[1;33m)\u001b[0m \u001b[1;32mand\u001b[0m \u001b[1;32mnot\u001b[0m \u001b[0misinstance\u001b[0m\u001b[1;33m(\u001b[0m\u001b[0mquery\u001b[0m\u001b[1;33m[\u001b[0m\u001b[1;36m0\u001b[0m\u001b[1;33m]\u001b[0m\u001b[1;33m,\u001b[0m \u001b[0mtuple\u001b[0m\u001b[1;33m)\u001b[0m\u001b[1;33m:\u001b[0m\u001b[1;33m\u001b[0m\u001b[0m\n\u001b[0m\u001b[0;32m    854\u001b[0m                 \u001b[1;32mraise\u001b[0m \u001b[0mTypeError\u001b[0m\u001b[1;33m\u001b[0m\u001b[0m\n",
      "\u001b[1;31mTypeError\u001b[0m: object of type 'Request' has no len()",
      "\nDuring handling of the above exception, another exception occurred:\n",
      "\u001b[1;31mTypeError\u001b[0m                                 Traceback (most recent call last)",
      "\u001b[1;32m<ipython-input-11-1c38315add33>\u001b[0m in \u001b[0;36m<module>\u001b[1;34m()\u001b[0m\n\u001b[0;32m      3\u001b[0m \u001b[0mparams\u001b[0m \u001b[1;33m=\u001b[0m \u001b[0murllib\u001b[0m\u001b[1;33m.\u001b[0m\u001b[0mparse\u001b[0m\u001b[1;33m.\u001b[0m\u001b[0murlencode\u001b[0m\u001b[1;33m(\u001b[0m\u001b[0mraw_params\u001b[0m\u001b[1;33m)\u001b[0m\u001b[1;33m\u001b[0m\u001b[0m\n\u001b[0;32m      4\u001b[0m \u001b[0mrequest\u001b[0m \u001b[1;33m=\u001b[0m \u001b[0murllib\u001b[0m\u001b[1;33m.\u001b[0m\u001b[0mrequest\u001b[0m\u001b[1;33m.\u001b[0m\u001b[0mRequest\u001b[0m\u001b[1;33m(\u001b[0m\u001b[0murl\u001b[0m\u001b[1;33m,\u001b[0m\u001b[0mparams\u001b[0m\u001b[1;33m,\u001b[0m\u001b[0mheaders\u001b[0m\u001b[1;33m=\u001b[0m\u001b[1;33m{\u001b[0m\u001b[1;34m'Content-type'\u001b[0m\u001b[1;33m:\u001b[0m\u001b[1;34m'application/x-www-form-urlencoded'\u001b[0m\u001b[1;33m}\u001b[0m\u001b[1;33m)\u001b[0m\u001b[1;33m\u001b[0m\u001b[0m\n\u001b[1;32m----> 5\u001b[1;33m \u001b[0mrequest\u001b[0m \u001b[1;33m=\u001b[0m \u001b[0murllib\u001b[0m\u001b[1;33m.\u001b[0m\u001b[0mparse\u001b[0m\u001b[1;33m.\u001b[0m\u001b[0murlencode\u001b[0m\u001b[1;33m(\u001b[0m\u001b[0mrequest\u001b[0m\u001b[1;33m)\u001b[0m\u001b[1;33m\u001b[0m\u001b[0m\n\u001b[0m\u001b[0;32m      6\u001b[0m \u001b[0mpage\u001b[0m \u001b[1;33m=\u001b[0m \u001b[0murllib\u001b[0m\u001b[1;33m.\u001b[0m\u001b[0mrequest\u001b[0m\u001b[1;33m.\u001b[0m\u001b[0murlopen\u001b[0m\u001b[1;33m(\u001b[0m\u001b[0mrequest\u001b[0m\u001b[1;33m)\u001b[0m\u001b[1;33m\u001b[0m\u001b[0m\n\u001b[0;32m      7\u001b[0m \u001b[0mpage\u001b[0m \u001b[1;33m=\u001b[0m \u001b[0mpage\u001b[0m\u001b[1;33m.\u001b[0m\u001b[0mread\u001b[0m\u001b[1;33m(\u001b[0m\u001b[1;33m)\u001b[0m\u001b[1;33m\u001b[0m\u001b[0m\n",
      "\u001b[1;32m~\\AppData\\Local\\Continuum\\anaconda3\\lib\\urllib\\parse.py\u001b[0m in \u001b[0;36murlencode\u001b[1;34m(query, doseq, safe, encoding, errors, quote_via)\u001b[0m\n\u001b[0;32m    860\u001b[0m             \u001b[0mty\u001b[0m\u001b[1;33m,\u001b[0m \u001b[0mva\u001b[0m\u001b[1;33m,\u001b[0m \u001b[0mtb\u001b[0m \u001b[1;33m=\u001b[0m \u001b[0msys\u001b[0m\u001b[1;33m.\u001b[0m\u001b[0mexc_info\u001b[0m\u001b[1;33m(\u001b[0m\u001b[1;33m)\u001b[0m\u001b[1;33m\u001b[0m\u001b[0m\n\u001b[0;32m    861\u001b[0m             raise TypeError(\"not a valid non-string sequence \"\n\u001b[1;32m--> 862\u001b[1;33m                             \"or mapping object\").with_traceback(tb)\n\u001b[0m\u001b[0;32m    863\u001b[0m \u001b[1;33m\u001b[0m\u001b[0m\n\u001b[0;32m    864\u001b[0m     \u001b[0ml\u001b[0m \u001b[1;33m=\u001b[0m \u001b[1;33m[\u001b[0m\u001b[1;33m]\u001b[0m\u001b[1;33m\u001b[0m\u001b[0m\n",
      "\u001b[1;32m~\\AppData\\Local\\Continuum\\anaconda3\\lib\\urllib\\parse.py\u001b[0m in \u001b[0;36murlencode\u001b[1;34m(query, doseq, safe, encoding, errors, quote_via)\u001b[0m\n\u001b[0;32m    851\u001b[0m             \u001b[1;31m# non-sequence items should not work with len()\u001b[0m\u001b[1;33m\u001b[0m\u001b[1;33m\u001b[0m\u001b[0m\n\u001b[0;32m    852\u001b[0m             \u001b[1;31m# non-empty strings will fail this\u001b[0m\u001b[1;33m\u001b[0m\u001b[1;33m\u001b[0m\u001b[0m\n\u001b[1;32m--> 853\u001b[1;33m             \u001b[1;32mif\u001b[0m \u001b[0mlen\u001b[0m\u001b[1;33m(\u001b[0m\u001b[0mquery\u001b[0m\u001b[1;33m)\u001b[0m \u001b[1;32mand\u001b[0m \u001b[1;32mnot\u001b[0m \u001b[0misinstance\u001b[0m\u001b[1;33m(\u001b[0m\u001b[0mquery\u001b[0m\u001b[1;33m[\u001b[0m\u001b[1;36m0\u001b[0m\u001b[1;33m]\u001b[0m\u001b[1;33m,\u001b[0m \u001b[0mtuple\u001b[0m\u001b[1;33m)\u001b[0m\u001b[1;33m:\u001b[0m\u001b[1;33m\u001b[0m\u001b[0m\n\u001b[0m\u001b[0;32m    854\u001b[0m                 \u001b[1;32mraise\u001b[0m \u001b[0mTypeError\u001b[0m\u001b[1;33m\u001b[0m\u001b[0m\n\u001b[0;32m    855\u001b[0m             \u001b[1;31m# Zero-length sequences of all types will get here and succeed,\u001b[0m\u001b[1;33m\u001b[0m\u001b[1;33m\u001b[0m\u001b[0m\n",
      "\u001b[1;31mTypeError\u001b[0m: not a valid non-string sequence or mapping object"
     ]
    }
   ],
   "source": [
    "# url = ('http://www.ipvoid.com/')\n",
    "# raw_params = {'ip':ipInput,'go':'Scan Now'}\n",
    "# params = urllib.parse.urlencode(raw_params)\n",
    "# request = urllib.request.Request(url,params,headers={'Content-type':'application/x-www-form-urlencoded'})\n",
    "# request = urllib.parse.urlencode(request)\n",
    "# page = urllib.request.urlopen(request)\n",
    "# page = page.read()\n",
    "# contentString = str(page)\n",
    "        "
   ]
  },
  {
   "cell_type": "code",
   "execution_count": 12,
   "metadata": {},
   "outputs": [],
   "source": [
    "# url = ('http://www.ipvoid.com/')\n",
    "# raw_params = {'ip':ipInput,'go':'Scan Now'}\n",
    "# params = urllib.parse.urlencode(raw_params)\n",
    "# request = urllib.request.Request(url,params,headers={'Content-type':'application/x-www-form-urlencoded'})"
   ]
  },
  {
   "cell_type": "code",
   "execution_count": 14,
   "metadata": {},
   "outputs": [
    {
     "name": "stdout",
     "output_type": "stream",
     "text": [
      "<urllib.request.Request object at 0x0000017A0CC5EAC8>\n"
     ]
    }
   ],
   "source": [
    "# print(request)"
   ]
  },
  {
   "cell_type": "markdown",
   "metadata": {},
   "source": [
    "# Trying IP scan with requests"
   ]
  },
  {
   "cell_type": "code",
   "execution_count": 18,
   "metadata": {},
   "outputs": [],
   "source": [
    "# import requests, json\n",
    "# from lxml import html\n",
    "# from bs4 import BeautifulSoup"
   ]
  },
  {
   "cell_type": "code",
   "execution_count": 19,
   "metadata": {},
   "outputs": [],
   "source": [
    "# url = ('https://www.ipvoid.com')\n",
    "# payload = {'ip':ipInput,'go':'Scan Now'}\n",
    "# headers = {'Content-type':'application/x-www-form-urlencoded'}\n",
    "# test = requests.post(url, data=json.dumps(payload), headers=headers)\n",
    "# r = requests.get(test)\n",
    "# print(r.json)\n",
    "# # page = page.read()\n",
    "# # contentString = str(page)"
   ]
  },
  {
   "cell_type": "code",
   "execution_count": 20,
   "metadata": {},
   "outputs": [],
   "source": [
    "# print(test)"
   ]
  },
  {
   "cell_type": "code",
   "execution_count": 21,
   "metadata": {},
   "outputs": [],
   "source": [
    "# <input type=\"text\" name=\"ip\" class=\"form-control\" id=\"ipAddr\" placeholder=\"Insert IP Address\" required>"
   ]
  },
  {
   "cell_type": "code",
   "execution_count": 22,
   "metadata": {},
   "outputs": [],
   "source": [
    "# ipInput = input(\"Enter Ip Address to scan: \")\n",
    "# #response = requests.get(\"https://ipvoid.com/ip-blacklist-check\")\n",
    "# #payload = {'input type': 'text','name':'ip','class':'form-control','id':'ipInput,'placeholder': \"Insert IP Address\"}\n",
    "# #r = requests.post(url, data=json.dumps(payload))\n",
    "# #r = requests.post(url, headers = payload)\n",
    "# url = \"http://www.ipvoid.com/ip-blacklist-check/\"\n",
    "# payload = {'ip': ipInput}\n",
    "# r = requests.post(url, data = json.dumps(payload))"
   ]
  },
  {
   "cell_type": "code",
   "execution_count": 23,
   "metadata": {},
   "outputs": [],
   "source": [
    "# ipInput = input(\"Enter Ip Address to scan: \")\n",
    "# #response = requests.get(\"https://ipvoid.com/ip-blacklist-check\")\n",
    "# #payload = {'input type': 'text','name':'ip','class':'form-control','id':'ipInput,'placeholder': \"Insert IP Address\"}\n",
    "# #r = requests.post(url, data=json.dumps(payload))\n",
    "# #r = requests.post(url, headers = payload)\n",
    "# url = \"http://www.ipvoid.com/ip-blacklist-check/\"\n",
    "# payload = {'ip': ipInput}\n",
    "\n",
    "# headers = {'Host':'www.ipvoid.com',\n",
    "# 'Connection':'keep-alive',\n",
    "# 'Content-Length':'10',\n",
    "# 'Cache-Control':'max-age=0',\n",
    "# 'Origin':'http://www.ipvoid.com',\n",
    "# 'Upgrade-Insecure-Requests':'1',\n",
    "# 'DNT':'1',\n",
    "# 'Content-Type':'application/x-www-form-urlencoded',\n",
    "# 'Accept':'text/html,application/xhtml+xml,application/xml;q=0.9,image/webp,image/apng,*/*;q=0.8',\n",
    "# 'Referer':'http://www.ipvoid.com/ip-blacklist-check/',\n",
    "# 'Accept-Encoding':'gzip,',\n",
    "# 'Accept-Language':'en-US,en;q=0.9',\n",
    "# 'Cookie':'_omappvp=9SHCZyP5K6r5wNcqULgw7h5FnT98FZL0UQ14ADOJNHR2c724TSAQX99ns0NqdGvCyne9KhavaWCWtAyU09BLvmaHlRepDlgh;'\n",
    "# }\n",
    "# r = requests.post(url, data = json.dumps(payload),headers = headers)"
   ]
  },
  {
   "cell_type": "code",
   "execution_count": 24,
   "metadata": {},
   "outputs": [],
   "source": [
    "# tree = html.fromstring(r.content)"
   ]
  },
  {
   "cell_type": "code",
   "execution_count": 25,
   "metadata": {},
   "outputs": [],
   "source": [
    "# print(tree.xpath('//span[@class=\"label label-success\"]/text()'))"
   ]
  },
  {
   "cell_type": "code",
   "execution_count": 26,
   "metadata": {},
   "outputs": [],
   "source": [
    "# soup = BeautifulSoup(r.text, 'html.parser')\n",
    "# print(soup.prettify())"
   ]
  },
  {
   "cell_type": "code",
   "execution_count": 27,
   "metadata": {},
   "outputs": [],
   "source": [
    "# soup.find_all('span')"
   ]
  }
 ],
 "metadata": {
  "kernelspec": {
   "display_name": "Python 3",
   "language": "python",
   "name": "python3"
  },
  "language_info": {
   "codemirror_mode": {
    "name": "ipython",
    "version": 3
   },
   "file_extension": ".py",
   "mimetype": "text/x-python",
   "name": "python",
   "nbconvert_exporter": "python",
   "pygments_lexer": "ipython3",
   "version": "3.6.4"
  }
 },
 "nbformat": 4,
 "nbformat_minor": 2
}
